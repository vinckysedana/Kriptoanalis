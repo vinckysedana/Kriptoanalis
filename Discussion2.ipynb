{
 "cells": [
  {
   "cell_type": "code",
   "execution_count": 1,
   "metadata": {},
   "outputs": [],
   "source": [
    "#membuat file txt\n",
    "def buat_file():\n",
    "    file = (input(\"Masukkan nama file : \"))\n",
    "    teks = (input(\"Masukkan Kalimat : \"))\n",
    "    file2 = open(file+'.txt', \"w\")\n",
    "    file2.write(teks)\n",
    "    file2.close()"
   ]
  },
  {
   "cell_type": "code",
   "execution_count": 2,
   "metadata": {},
   "outputs": [],
   "source": [
    "#membaca file txt\n",
    "def baca_file():\n",
    "    baca = (input(\"Masukkan nama file : \"))\n",
    "    file = open(baca, \"r\")\n",
    "    baca2 = file.read()\n",
    "    print(baca2)\n",
    "    file.close()"
   ]
  },
  {
   "cell_type": "code",
   "execution_count": 3,
   "metadata": {},
   "outputs": [],
   "source": [
    "#menghitung frekuensi\n",
    "def hitung_kata1():\n",
    "    masukkan_kata = input('Masukkan Kalimat: ')\n",
    "    cari_kata = input('Masukkan Kata atau Huruf: ')\n",
    "    print('Jumlah kemunculan ',cari_kata, 'adalah :', masukkan_kata.count(cari_kata))\n",
    "\n",
    "def hitung_kata2():\n",
    "    masukkan_kata = input('Masukkan Nama File : ')\n",
    "    file = open(masukkan_kata, \"r\")\n",
    "    baca = file.read()\n",
    "    print(baca)\n",
    "    cari_kata = input('Masukkan Kata atau Huruf: ')\n",
    "    print('Jumlah kemunculan ',cari_kata, 'adalah :', baca.count(cari_kata))\n",
    "    file.close()"
   ]
  },
  {
   "cell_type": "code",
   "execution_count": 4,
   "metadata": {},
   "outputs": [],
   "source": [
    "def hitung_frekuensi():\n",
    "    print(\"1.Input Kalimat \\n2.Input Nama File Yang Sudah Ada\")\n",
    "    hitung = int(input(\"Masukkan Pilihan : \"))\n",
    "    if hitung==1:\n",
    "        hitung_kata1()\n",
    "    elif hitung==2:\n",
    "        hitung_kata2()"
   ]
  },
  {
   "cell_type": "code",
   "execution_count": null,
   "metadata": {},
   "outputs": [
    {
     "name": "stdout",
     "output_type": "stream",
     "text": [
      "\n",
      "Nama : Kadek Vincky Sedana\n",
      "NIM : 1808561071\n",
      "\n",
      "Tugas Kriptoanalis\n",
      "1.Buat File\n",
      "2.Baca File\n",
      "3.Hitung Frekuensi\n",
      "0.Exit\n",
      "\n",
      "Masukkan Pilihan : 1\n",
      "Masukkan nama file : saya\n",
      "Masukkan Kalimat : sayaasasasa\n",
      "\n",
      "Nama : Kadek Vincky Sedana\n",
      "NIM : 1808561071\n",
      "\n",
      "Tugas Kriptoanalis\n",
      "1.Buat File\n",
      "2.Baca File\n",
      "3.Hitung Frekuensi\n",
      "0.Exit\n",
      "\n",
      "Masukkan Pilihan : 1\n",
      "Masukkan nama file : kriptoanalis\n"
     ]
    }
   ],
   "source": [
    "while(1):\n",
    "    print('\\nNama : Kadek Vincky Sedana\\nNIM : 1808561071')\n",
    "    print('\\nTugas Kriptoanalis')\n",
    "    print('1.Buat File\\n2.Baca File\\n3.Hitung Frekuensi\\n0.Exit\\n')\n",
    "    pilih = int(input('Masukkan Pilihan : '))\n",
    "    if pilih==1:\n",
    "        buat_file()\n",
    "    elif pilih==2:\n",
    "        baca_file()\n",
    "    elif pilih==3:\n",
    "        hitung_frekuensi()\n",
    "    else:\n",
    "        break"
   ]
  },
  {
   "cell_type": "code",
   "execution_count": null,
   "metadata": {},
   "outputs": [],
   "source": []
  }
 ],
 "metadata": {
  "kernelspec": {
   "display_name": "Python 3",
   "language": "python",
   "name": "python3"
  },
  "language_info": {
   "codemirror_mode": {
    "name": "ipython",
    "version": 3
   },
   "file_extension": ".py",
   "mimetype": "text/x-python",
   "name": "python",
   "nbconvert_exporter": "python",
   "pygments_lexer": "ipython3",
   "version": "3.8.5"
  }
 },
 "nbformat": 4,
 "nbformat_minor": 4
}
